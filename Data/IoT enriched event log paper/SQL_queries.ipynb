{
 "cells": [
  {
   "cell_type": "markdown",
   "id": "49cfe1fa",
   "metadata": {},
   "source": [
    "Analyze Pressure Data (find traces where pressure significantly changes during the trace)"
   ]
  },
  {
   "cell_type": "code",
   "execution_count": null,
   "id": "6b5296a5",
   "metadata": {},
   "outputs": [],
   "source": [
    "# Find traces where the OV_1_WT_1_Pneumatic_System_Pressure shows a significant change.\n",
    "abs_range_threshold = 0.5\n",
    "abs_range_from_zero = 0.6\n",
    "\n",
    "sql = f\"\"\"\n",
    "WITH vals AS (\n",
    "    SELECT\n",
    "        \"trace:SubProcessID\",\n",
    "        TRY_CAST(\"stream:value\" AS DOUBLE) AS v,\n",
    "        \"stream:timestamp\"\n",
    "    FROM sensor_data\n",
    "    WHERE \"stream:observation\" = 'http://iot.uni-trier.de/FTOnto#OV_1_WT_1_Pneumatic_System_Pressure'\n",
    "        AND \"org:resource\" = 'ov_1'\n",
    "        AND TRY_CAST(\"stream:value\" AS DOUBLE) IS NOT NULL\n",
    "),\n",
    "diffs AS (\n",
    "    SELECT\n",
    "        \"trace:SubProcessID\",\n",
    "        v,\n",
    "        LAG(v) OVER (PARTITION BY \"trace:SubProcessID\" ORDER BY \"stream:timestamp\") AS prev_v\n",
    "    FROM vals\n",
    ")\n",
    "SELECT\n",
    "    d.\"trace:SubProcessID\" AS trace_id,\n",
    "    COUNT(*) AS n_samples,\n",
    "    MIN(v) AS v_min,\n",
    "    MAX(v) AS v_max,\n",
    "    (MAX(v) - MIN(v)) AS v_range,\n",
    "    AVG(v) AS v_mean,\n",
    "    ABS(AVG(v)) AS mean_abs_diff0,\n",
    "    GREATEST(ABS(MIN(v)), ABS(MAX(v))) AS max_abs_from_zero\n",
    "FROM diffs d\n",
    "GROUP BY d.\"trace:SubProcessID\"\n",
    "HAVING (MAX(v) - MIN(v)) > {abs_range_threshold}\n",
    "    OR GREATEST(ABS(MIN(v)), ABS(MAX(v))) > {abs_range_from_zero}\n",
    "    OR MIN(v) < 0\n",
    "ORDER BY v_range DESC\n",
    "\"\"\"\n",
    "\n",
    "df_sensor_grouped = con.execute(sql).df()\n",
    "\n",
    "# ------------------------\n",
    "\n",
    "pd.set_option('display.max_colwidth', None)\n",
    "pd.set_option('display.width', None)\n",
    "pd.set_option('display.max_columns', None)\n",
    "display(df_sensor_grouped)"
   ]
  }
 ],
 "metadata": {
  "language_info": {
   "name": "python"
  }
 },
 "nbformat": 4,
 "nbformat_minor": 5
}
